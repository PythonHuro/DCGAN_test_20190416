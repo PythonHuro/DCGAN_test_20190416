{
 "cells": [
  {
   "cell_type": "code",
   "execution_count": 1,
   "metadata": {},
   "outputs": [
    {
     "name": "stderr",
     "output_type": "stream",
     "text": [
      "Using TensorFlow backend.\n"
     ]
    }
   ],
   "source": [
    "import numpy as np\n",
    "import matplotlib as plt\n",
    "from PIL import Image\n",
    "import keras"
   ]
  },
  {
   "cell_type": "markdown",
   "metadata": {},
   "source": [
    "### 🐍mnistデータ読み込む🐍\n",
    "- 読み込んだ後に画像の画素値を-1～1に正規化した"
   ]
  },
  {
   "cell_type": "code",
   "execution_count": 2,
   "metadata": {},
   "outputs": [],
   "source": [
    "(X_train, _), (_, _) = keras.datasets.mnist.load_data()\n",
    "X_train = (X_train.astype(np.float32) - 127.5) / 127.5\n",
    "X_train = np.expand_dims(X_train, axis=3)\n",
    "\n",
    "img_shape = X_train[0].shape\n",
    "\n",
    "batch_size = 128\n",
    "training_ratio = 5\n",
    "\n",
    "half_batch = int(batch_size / 2)"
   ]
  },
  {
   "cell_type": "markdown",
   "metadata": {},
   "source": [
    "### 🐍z_dim(潜在変数の次元)を定義🐍\n",
    "- この潜在変数の次元が小さすぎるとモード崩壊という、同じような数字ばかりが生成されてしまう現象が起きてしまう。Generator必死に訓練データをまねようとするが、潜在変数の次元が小さいため表現の幅を持つことができずに、特定の数字のみに集中してDiscriminatorを騙そうとする"
   ]
  },
  {
   "cell_type": "code",
   "execution_count": 3,
   "metadata": {},
   "outputs": [],
   "source": [
    "z_dim = 5"
   ]
  },
  {
   "cell_type": "markdown",
   "metadata": {},
   "source": [
    "### 🐍Generatorを設計🐍"
   ]
  },
  {
   "cell_type": "code",
   "execution_count": 4,
   "metadata": {},
   "outputs": [
    {
     "name": "stdout",
     "output_type": "stream",
     "text": [
      "WARNING:tensorflow:From C:\\Users\\Kanazashi\\AppData\\Local\\conda\\conda\\envs\\DCGAN_test_20190416\\lib\\site-packages\\tensorflow\\python\\framework\\op_def_library.py:263: colocate_with (from tensorflow.python.framework.ops) is deprecated and will be removed in a future version.\n",
      "Instructions for updating:\n",
      "Colocations handled automatically by placer.\n"
     ]
    }
   ],
   "source": [
    "noise_shape = (z_dim,)\n",
    "generator = keras.models.Sequential()\n",
    "\n",
    "generator.add(keras.layers.Dense(1024, input_shape=noise_shape))\n",
    "generator.add(keras.layers.normalization.BatchNormalization())\n",
    "generator.add(keras.layers.advanced_activations.LeakyReLU(0.2))\n",
    "generator.add(keras.layers.Dense(128*7*7))\n",
    "generator.add(keras.layers.normalization.BatchNormalization())\n",
    "generator.add(keras.layers.advanced_activations.LeakyReLU(0.2))\n",
    "generator.add(keras.layers.Reshape((7,7,128), input_shape=(128*7*7, )))\n",
    "generator.add(keras.layers.UpSampling2D((2, 2)))\n",
    "generator.add(keras.layers.Conv2D(64, (5, 5), padding='same'))\n",
    "generator.add(keras.layers.normalization.BatchNormalization())\n",
    "generator.add(keras.layers.advanced_activations.LeakyReLU(0.2))\n",
    "generator.add(keras.layers.UpSampling2D((2, 2)))\n",
    "generator.add(keras.layers.Conv2D(1, (5, 5), padding='same'))\n",
    "generator.add(keras.layers.Activation('tanh'))"
   ]
  },
  {
   "cell_type": "markdown",
   "metadata": {},
   "source": [
    "### 🐍Discriminatorを設計🐍"
   ]
  },
  {
   "cell_type": "code",
   "execution_count": 5,
   "metadata": {},
   "outputs": [
    {
     "name": "stdout",
     "output_type": "stream",
     "text": [
      "WARNING:tensorflow:From C:\\Users\\Kanazashi\\AppData\\Local\\conda\\conda\\envs\\DCGAN_test_20190416\\lib\\site-packages\\keras\\backend\\tensorflow_backend.py:3445: calling dropout (from tensorflow.python.ops.nn_ops) with keep_prob is deprecated and will be removed in a future version.\n",
      "Instructions for updating:\n",
      "Please use `rate` instead of `keep_prob`. Rate should be set to `rate = 1 - keep_prob`.\n"
     ]
    }
   ],
   "source": [
    "discriminator = keras.models.Sequential()\n",
    "\n",
    "discriminator.add(keras.layers.Conv2D(64, (5, 5), strides=(2, 2), padding='same', input_shape=img_shape))\n",
    "discriminator.add(keras.layers.advanced_activations.LeakyReLU(0.2))\n",
    "discriminator.add(keras.layers.Conv2D(128, (5, 5), strides=(2, 2)))\n",
    "discriminator.add(keras.layers.advanced_activations.LeakyReLU(0.2))\n",
    "discriminator.add(keras.layers.Flatten())\n",
    "discriminator.add(keras.layers.Dense(1024))\n",
    "discriminator.add(keras.layers.advanced_activations.LeakyReLU(0.2))\n",
    "discriminator.add(keras.layers.Dropout(0.5))\n",
    "discriminator.add(keras.layers.Dense(1))\n",
    "discriminator.add(keras.layers.Activation('sigmoid'))"
   ]
  },
  {
   "cell_type": "markdown",
   "metadata": {},
   "source": [
    "### 🐍いったんここで、discriminatorの学習をFalseにする🐍"
   ]
  },
  {
   "cell_type": "code",
   "execution_count": 6,
   "metadata": {},
   "outputs": [],
   "source": [
    "for layer in discriminator.layers:\n",
    "    layer.trainable = False\n",
    "discriminator.trainable = False"
   ]
  },
  {
   "cell_type": "markdown",
   "metadata": {},
   "source": [
    "### 🐍Combinedを設計🐍"
   ]
  },
  {
   "cell_type": "code",
   "execution_count": 8,
   "metadata": {},
   "outputs": [],
   "source": [
    "z = keras.layers.Input(shape=(z_dim, ))\n",
    "img = generator(z)\n",
    "valid = discriminator(img)\n",
    "netG_model = keras.models.Model(z, valid)\n",
    "loss = -1 * keras.backend.mean(valid)\n",
    "training_updates_1 = keras.optimizers.Adam(lr=1e-4, beta_1=0.5, beta_2=0.9).get_updates(generator.trainable_weights, [], loss)\n",
    "\n",
    "netG_train = keras.backend.function([z], [loss], training_updates_1)"
   ]
  },
  {
   "cell_type": "markdown",
   "metadata": {},
   "source": [
    "### 🐍さっきFalseにしたやつ戻す🐍"
   ]
  },
  {
   "cell_type": "code",
   "execution_count": 9,
   "metadata": {},
   "outputs": [],
   "source": [
    "for layer in discriminator.layers:\n",
    "    layer.trainable = True\n",
    "for layer in generator.layers:\n",
    "    layer.trainable = False\n",
    "discriminator.trainable = True\n",
    "generator.trainable = False"
   ]
  },
  {
   "cell_type": "markdown",
   "metadata": {},
   "source": [
    "### 🐍modelを作成する🐍\n",
    "- Discriminatorには、画像を3枚入力する\n",
    "    - 1つ目は本物(r-img)、2つ目はGeneratorが作ったやつ(f-img)、3つ目はその2つの画像間の任意の点の集合から作った画像（！？）(a-img)\n"
   ]
  },
  {
   "cell_type": "code",
   "execution_count": 10,
   "metadata": {},
   "outputs": [],
   "source": [
    "# Generatorに入力する、潜在変数zを生成する\n",
    "z = keras.layers.Input(shape=(z_dim,))\n",
    "\n",
    "# Discriminatorに入力する画像を3つ用意する\n",
    "r_img = keras.layers.Input(shape=(img_shape))\n",
    "f_img = generator(z)\n",
    "e_input = keras.backend.placeholder(shape=(None, 1,1,1))\n",
    "a_img = keras.layers.Input(shape=(img_shape), tensor=e_input * r_img + (1-e_input) * f_img)\n",
    "\n",
    "# Discriminatorの出力を定義\n",
    "f_out = discriminator(f_img)\n",
    "r_out = discriminator(r_img)\n",
    "a_out = discriminator(a_img)"
   ]
  },
  {
   "cell_type": "markdown",
   "metadata": {},
   "source": [
    "### 🐍損失関数を作成する🐍\n",
    "- 定義に沿って損失関数を作成\n",
    "![Loss Function](WGAN_loss_func.png)"
   ]
  },
  {
   "cell_type": "code",
   "execution_count": 11,
   "metadata": {},
   "outputs": [],
   "source": [
    "weight_lam = 10\n",
    "\n",
    "# Original critic loss : 第一項目\n",
    "loss_real = keras.backend.mean(r_out) / batch_size\n",
    "loss_fake = keras.backend.mean(f_out) / batch_size\n",
    "\n",
    "# Our gradient penalty : 第二項目\n",
    "grad_mixed = keras.backend.gradients(a_out, [a_img])[0]\n",
    "norm_grad_mixed = keras.backend.sqrt(keras.backend.sum(keras.backend.square(grad_mixed), axis = [1, 2, 3]))\n",
    "grad_penalty = keras.backend.mean(keras.backend.square(norm_grad_mixed - 1))\n",
    "\n",
    "# 最終的な損失関数\n",
    "loss = loss_fake - loss_real + weight_lam * grad_penalty"
   ]
  },
  {
   "cell_type": "markdown",
   "metadata": {},
   "source": [
    "### 🐍Optimiserのインスタンス化🐍"
   ]
  },
  {
   "cell_type": "code",
   "execution_count": 12,
   "metadata": {},
   "outputs": [],
   "source": [
    "training_updates_2 = keras.optimizers.Adam(lr=1e-4, beta_1=0.5, beta_2=0.9).get_updates(discriminator.trainable_weights, [], loss)"
   ]
  },
  {
   "cell_type": "markdown",
   "metadata": {},
   "source": [
    "### 🐍入出力とoptimiserをfunction化してしまう🐍"
   ]
  },
  {
   "cell_type": "code",
   "execution_count": 13,
   "metadata": {},
   "outputs": [],
   "source": [
    "netD_train = keras.backend.function([r_img, z, e_input], [loss_real, loss_fake], training_updates_2)"
   ]
  },
  {
   "cell_type": "markdown",
   "metadata": {},
   "source": [
    "### 🐍学習の回数epochsを決定！🐍"
   ]
  },
  {
   "cell_type": "code",
   "execution_count": 14,
   "metadata": {},
   "outputs": [],
   "source": [
    "epochs = 20000"
   ]
  },
  {
   "cell_type": "markdown",
   "metadata": {},
   "source": [
    "### 🐍いざ学習させる🐍"
   ]
  },
  {
   "cell_type": "code",
   "execution_count": 15,
   "metadata": {},
   "outputs": [
    {
     "name": "stdout",
     "output_type": "stream",
     "text": [
      "0 [D loss: 0.000117] [G loss: -0.495896]\n",
      "50 [D loss: -0.001436] [G loss: -0.682931]\n",
      "100 [D loss: -0.002885] [G loss: -0.714871]\n",
      "150 [D loss: -0.001335] [G loss: -0.659887]\n",
      "200 [D loss: -0.001048] [G loss: -0.591204]\n",
      "250 [D loss: -0.001593] [G loss: -0.478272]\n",
      "300 [D loss: -0.000766] [G loss: -0.578372]\n",
      "350 [D loss: -0.000633] [G loss: -0.527020]\n",
      "400 [D loss: -0.000245] [G loss: -0.469541]\n",
      "450 [D loss: -0.001148] [G loss: -0.684954]\n",
      "500 [D loss: -0.000226] [G loss: -0.466877]\n",
      "550 [D loss: 0.000221] [G loss: -0.575768]\n",
      "600 [D loss: -0.000328] [G loss: -0.505321]\n",
      "650 [D loss: -0.000284] [G loss: -0.529199]\n",
      "700 [D loss: 0.000086] [G loss: -0.499736]\n",
      "750 [D loss: -0.000097] [G loss: -0.509077]\n",
      "800 [D loss: 0.000510] [G loss: -0.374557]\n",
      "850 [D loss: 0.000301] [G loss: -0.465974]\n",
      "900 [D loss: 0.000262] [G loss: -0.454587]\n",
      "950 [D loss: 0.000131] [G loss: -0.482647]\n",
      "1000 [D loss: 0.000769] [G loss: -0.437109]\n",
      "1050 [D loss: 0.000112] [G loss: -0.504364]\n",
      "1100 [D loss: 0.000648] [G loss: -0.463482]\n",
      "1150 [D loss: -0.000889] [G loss: -0.806392]\n",
      "1200 [D loss: -0.000735] [G loss: -0.608174]\n",
      "1250 [D loss: 0.000153] [G loss: -0.497892]\n",
      "1300 [D loss: 0.000789] [G loss: -0.385662]\n",
      "1350 [D loss: 0.001511] [G loss: -0.238974]\n",
      "1400 [D loss: 0.000876] [G loss: -0.404509]\n",
      "1450 [D loss: -0.002022] [G loss: -0.742340]\n",
      "1500 [D loss: 0.001463] [G loss: -0.387851]\n",
      "1550 [D loss: 0.001125] [G loss: -0.404203]\n",
      "1600 [D loss: 0.001434] [G loss: -0.343298]\n",
      "1650 [D loss: 0.001277] [G loss: -0.388761]\n",
      "1700 [D loss: 0.001784] [G loss: -0.378971]\n",
      "1750 [D loss: 0.001411] [G loss: -0.354149]\n",
      "1800 [D loss: 0.001995] [G loss: -0.296774]\n",
      "1850 [D loss: 0.000986] [G loss: -0.405486]\n",
      "1900 [D loss: 0.001041] [G loss: -0.380013]\n",
      "1950 [D loss: 0.000938] [G loss: -0.423741]\n",
      "2000 [D loss: 0.001160] [G loss: -0.367347]\n",
      "2050 [D loss: 0.001293] [G loss: -0.380263]\n",
      "2100 [D loss: 0.001260] [G loss: -0.369919]\n"
     ]
    },
    {
     "ename": "KeyboardInterrupt",
     "evalue": "",
     "output_type": "error",
     "traceback": [
      "\u001b[1;31m---------------------------------------------------------------------------\u001b[0m",
      "\u001b[1;31mKeyboardInterrupt\u001b[0m                         Traceback (most recent call last)",
      "\u001b[1;32m<ipython-input-15-a51ce99dd40d>\u001b[0m in \u001b[0;36m<module>\u001b[1;34m\u001b[0m\n\u001b[0;32m     22\u001b[0m \u001b[1;33m\u001b[0m\u001b[0m\n\u001b[0;32m     23\u001b[0m         \u001b[1;31m# discriminatorを学習させる\u001b[0m\u001b[1;33m\u001b[0m\u001b[1;33m\u001b[0m\u001b[1;33m\u001b[0m\u001b[0m\n\u001b[1;32m---> 24\u001b[1;33m         \u001b[0md_predict\u001b[0m \u001b[1;33m=\u001b[0m \u001b[0mdiscriminator\u001b[0m\u001b[1;33m.\u001b[0m\u001b[0mpredict_classes\u001b[0m\u001b[1;33m(\u001b[0m\u001b[0mnp\u001b[0m\u001b[1;33m.\u001b[0m\u001b[0mconcatenate\u001b[0m\u001b[1;33m(\u001b[0m\u001b[1;33m[\u001b[0m\u001b[0mgen_imgs\u001b[0m\u001b[1;33m,\u001b[0m\u001b[0mimgs\u001b[0m\u001b[1;33m]\u001b[0m\u001b[1;33m)\u001b[0m\u001b[1;33m,\u001b[0m \u001b[0mverbose\u001b[0m\u001b[1;33m=\u001b[0m\u001b[1;36m0\u001b[0m\u001b[1;33m)\u001b[0m\u001b[1;33m\u001b[0m\u001b[1;33m\u001b[0m\u001b[0m\n\u001b[0m\u001b[0;32m     25\u001b[0m         \u001b[0md_predict\u001b[0m \u001b[1;33m=\u001b[0m \u001b[0mnp\u001b[0m\u001b[1;33m.\u001b[0m\u001b[0msum\u001b[0m\u001b[1;33m(\u001b[0m\u001b[0md_predict\u001b[0m\u001b[1;33m)\u001b[0m\u001b[1;33m\u001b[0m\u001b[1;33m\u001b[0m\u001b[0m\n\u001b[0;32m     26\u001b[0m \u001b[1;33m\u001b[0m\u001b[0m\n",
      "\u001b[1;32m~\\AppData\\Local\\conda\\conda\\envs\\DCGAN_test_20190416\\lib\\site-packages\\keras\\engine\\sequential.py\u001b[0m in \u001b[0;36mpredict_classes\u001b[1;34m(self, x, batch_size, verbose)\u001b[0m\n\u001b[0;32m    265\u001b[0m             \u001b[0mA\u001b[0m \u001b[0mnumpy\u001b[0m \u001b[0marray\u001b[0m \u001b[0mof\u001b[0m \u001b[1;32mclass\u001b[0m \u001b[0mpredictions\u001b[0m\u001b[1;33m.\u001b[0m\u001b[1;33m\u001b[0m\u001b[1;33m\u001b[0m\u001b[0m\n\u001b[0;32m    266\u001b[0m         \"\"\"\n\u001b[1;32m--> 267\u001b[1;33m         \u001b[0mproba\u001b[0m \u001b[1;33m=\u001b[0m \u001b[0mself\u001b[0m\u001b[1;33m.\u001b[0m\u001b[0mpredict\u001b[0m\u001b[1;33m(\u001b[0m\u001b[0mx\u001b[0m\u001b[1;33m,\u001b[0m \u001b[0mbatch_size\u001b[0m\u001b[1;33m=\u001b[0m\u001b[0mbatch_size\u001b[0m\u001b[1;33m,\u001b[0m \u001b[0mverbose\u001b[0m\u001b[1;33m=\u001b[0m\u001b[0mverbose\u001b[0m\u001b[1;33m)\u001b[0m\u001b[1;33m\u001b[0m\u001b[1;33m\u001b[0m\u001b[0m\n\u001b[0m\u001b[0;32m    268\u001b[0m         \u001b[1;32mif\u001b[0m \u001b[0mproba\u001b[0m\u001b[1;33m.\u001b[0m\u001b[0mshape\u001b[0m\u001b[1;33m[\u001b[0m\u001b[1;33m-\u001b[0m\u001b[1;36m1\u001b[0m\u001b[1;33m]\u001b[0m \u001b[1;33m>\u001b[0m \u001b[1;36m1\u001b[0m\u001b[1;33m:\u001b[0m\u001b[1;33m\u001b[0m\u001b[1;33m\u001b[0m\u001b[0m\n\u001b[0;32m    269\u001b[0m             \u001b[1;32mreturn\u001b[0m \u001b[0mproba\u001b[0m\u001b[1;33m.\u001b[0m\u001b[0margmax\u001b[0m\u001b[1;33m(\u001b[0m\u001b[0maxis\u001b[0m\u001b[1;33m=\u001b[0m\u001b[1;33m-\u001b[0m\u001b[1;36m1\u001b[0m\u001b[1;33m)\u001b[0m\u001b[1;33m\u001b[0m\u001b[1;33m\u001b[0m\u001b[0m\n",
      "\u001b[1;32m~\\AppData\\Local\\conda\\conda\\envs\\DCGAN_test_20190416\\lib\\site-packages\\keras\\engine\\training.py\u001b[0m in \u001b[0;36mpredict\u001b[1;34m(self, x, batch_size, verbose, steps)\u001b[0m\n\u001b[0;32m   1167\u001b[0m                                             \u001b[0mbatch_size\u001b[0m\u001b[1;33m=\u001b[0m\u001b[0mbatch_size\u001b[0m\u001b[1;33m,\u001b[0m\u001b[1;33m\u001b[0m\u001b[1;33m\u001b[0m\u001b[0m\n\u001b[0;32m   1168\u001b[0m                                             \u001b[0mverbose\u001b[0m\u001b[1;33m=\u001b[0m\u001b[0mverbose\u001b[0m\u001b[1;33m,\u001b[0m\u001b[1;33m\u001b[0m\u001b[1;33m\u001b[0m\u001b[0m\n\u001b[1;32m-> 1169\u001b[1;33m                                             steps=steps)\n\u001b[0m\u001b[0;32m   1170\u001b[0m \u001b[1;33m\u001b[0m\u001b[0m\n\u001b[0;32m   1171\u001b[0m     def train_on_batch(self, x, y,\n",
      "\u001b[1;32m~\\AppData\\Local\\conda\\conda\\envs\\DCGAN_test_20190416\\lib\\site-packages\\keras\\engine\\training_arrays.py\u001b[0m in \u001b[0;36mpredict_loop\u001b[1;34m(model, f, ins, batch_size, verbose, steps)\u001b[0m\n\u001b[0;32m    292\u001b[0m                 \u001b[0mins_batch\u001b[0m\u001b[1;33m[\u001b[0m\u001b[0mi\u001b[0m\u001b[1;33m]\u001b[0m \u001b[1;33m=\u001b[0m \u001b[0mins_batch\u001b[0m\u001b[1;33m[\u001b[0m\u001b[0mi\u001b[0m\u001b[1;33m]\u001b[0m\u001b[1;33m.\u001b[0m\u001b[0mtoarray\u001b[0m\u001b[1;33m(\u001b[0m\u001b[1;33m)\u001b[0m\u001b[1;33m\u001b[0m\u001b[1;33m\u001b[0m\u001b[0m\n\u001b[0;32m    293\u001b[0m \u001b[1;33m\u001b[0m\u001b[0m\n\u001b[1;32m--> 294\u001b[1;33m             \u001b[0mbatch_outs\u001b[0m \u001b[1;33m=\u001b[0m \u001b[0mf\u001b[0m\u001b[1;33m(\u001b[0m\u001b[0mins_batch\u001b[0m\u001b[1;33m)\u001b[0m\u001b[1;33m\u001b[0m\u001b[1;33m\u001b[0m\u001b[0m\n\u001b[0m\u001b[0;32m    295\u001b[0m             \u001b[0mbatch_outs\u001b[0m \u001b[1;33m=\u001b[0m \u001b[0mto_list\u001b[0m\u001b[1;33m(\u001b[0m\u001b[0mbatch_outs\u001b[0m\u001b[1;33m)\u001b[0m\u001b[1;33m\u001b[0m\u001b[1;33m\u001b[0m\u001b[0m\n\u001b[0;32m    296\u001b[0m             \u001b[1;32mif\u001b[0m \u001b[0mbatch_index\u001b[0m \u001b[1;33m==\u001b[0m \u001b[1;36m0\u001b[0m\u001b[1;33m:\u001b[0m\u001b[1;33m\u001b[0m\u001b[1;33m\u001b[0m\u001b[0m\n",
      "\u001b[1;32m~\\AppData\\Local\\conda\\conda\\envs\\DCGAN_test_20190416\\lib\\site-packages\\keras\\backend\\tensorflow_backend.py\u001b[0m in \u001b[0;36m__call__\u001b[1;34m(self, inputs)\u001b[0m\n\u001b[0;32m   2713\u001b[0m                 \u001b[1;32mreturn\u001b[0m \u001b[0mself\u001b[0m\u001b[1;33m.\u001b[0m\u001b[0m_legacy_call\u001b[0m\u001b[1;33m(\u001b[0m\u001b[0minputs\u001b[0m\u001b[1;33m)\u001b[0m\u001b[1;33m\u001b[0m\u001b[1;33m\u001b[0m\u001b[0m\n\u001b[0;32m   2714\u001b[0m \u001b[1;33m\u001b[0m\u001b[0m\n\u001b[1;32m-> 2715\u001b[1;33m             \u001b[1;32mreturn\u001b[0m \u001b[0mself\u001b[0m\u001b[1;33m.\u001b[0m\u001b[0m_call\u001b[0m\u001b[1;33m(\u001b[0m\u001b[0minputs\u001b[0m\u001b[1;33m)\u001b[0m\u001b[1;33m\u001b[0m\u001b[1;33m\u001b[0m\u001b[0m\n\u001b[0m\u001b[0;32m   2716\u001b[0m         \u001b[1;32melse\u001b[0m\u001b[1;33m:\u001b[0m\u001b[1;33m\u001b[0m\u001b[1;33m\u001b[0m\u001b[0m\n\u001b[0;32m   2717\u001b[0m             \u001b[1;32mif\u001b[0m \u001b[0mpy_any\u001b[0m\u001b[1;33m(\u001b[0m\u001b[0mis_tensor\u001b[0m\u001b[1;33m(\u001b[0m\u001b[0mx\u001b[0m\u001b[1;33m)\u001b[0m \u001b[1;32mfor\u001b[0m \u001b[0mx\u001b[0m \u001b[1;32min\u001b[0m \u001b[0minputs\u001b[0m\u001b[1;33m)\u001b[0m\u001b[1;33m:\u001b[0m\u001b[1;33m\u001b[0m\u001b[1;33m\u001b[0m\u001b[0m\n",
      "\u001b[1;32m~\\AppData\\Local\\conda\\conda\\envs\\DCGAN_test_20190416\\lib\\site-packages\\keras\\backend\\tensorflow_backend.py\u001b[0m in \u001b[0;36m_call\u001b[1;34m(self, inputs)\u001b[0m\n\u001b[0;32m   2673\u001b[0m             \u001b[0mfetched\u001b[0m \u001b[1;33m=\u001b[0m \u001b[0mself\u001b[0m\u001b[1;33m.\u001b[0m\u001b[0m_callable_fn\u001b[0m\u001b[1;33m(\u001b[0m\u001b[1;33m*\u001b[0m\u001b[0marray_vals\u001b[0m\u001b[1;33m,\u001b[0m \u001b[0mrun_metadata\u001b[0m\u001b[1;33m=\u001b[0m\u001b[0mself\u001b[0m\u001b[1;33m.\u001b[0m\u001b[0mrun_metadata\u001b[0m\u001b[1;33m)\u001b[0m\u001b[1;33m\u001b[0m\u001b[1;33m\u001b[0m\u001b[0m\n\u001b[0;32m   2674\u001b[0m         \u001b[1;32melse\u001b[0m\u001b[1;33m:\u001b[0m\u001b[1;33m\u001b[0m\u001b[1;33m\u001b[0m\u001b[0m\n\u001b[1;32m-> 2675\u001b[1;33m             \u001b[0mfetched\u001b[0m \u001b[1;33m=\u001b[0m \u001b[0mself\u001b[0m\u001b[1;33m.\u001b[0m\u001b[0m_callable_fn\u001b[0m\u001b[1;33m(\u001b[0m\u001b[1;33m*\u001b[0m\u001b[0marray_vals\u001b[0m\u001b[1;33m)\u001b[0m\u001b[1;33m\u001b[0m\u001b[1;33m\u001b[0m\u001b[0m\n\u001b[0m\u001b[0;32m   2676\u001b[0m         \u001b[1;32mreturn\u001b[0m \u001b[0mfetched\u001b[0m\u001b[1;33m[\u001b[0m\u001b[1;33m:\u001b[0m\u001b[0mlen\u001b[0m\u001b[1;33m(\u001b[0m\u001b[0mself\u001b[0m\u001b[1;33m.\u001b[0m\u001b[0moutputs\u001b[0m\u001b[1;33m)\u001b[0m\u001b[1;33m]\u001b[0m\u001b[1;33m\u001b[0m\u001b[1;33m\u001b[0m\u001b[0m\n\u001b[0;32m   2677\u001b[0m \u001b[1;33m\u001b[0m\u001b[0m\n",
      "\u001b[1;32m~\\AppData\\Local\\conda\\conda\\envs\\DCGAN_test_20190416\\lib\\site-packages\\tensorflow\\python\\client\\session.py\u001b[0m in \u001b[0;36m__call__\u001b[1;34m(self, *args, **kwargs)\u001b[0m\n\u001b[0;32m   1437\u001b[0m           ret = tf_session.TF_SessionRunCallable(\n\u001b[0;32m   1438\u001b[0m               \u001b[0mself\u001b[0m\u001b[1;33m.\u001b[0m\u001b[0m_session\u001b[0m\u001b[1;33m.\u001b[0m\u001b[0m_session\u001b[0m\u001b[1;33m,\u001b[0m \u001b[0mself\u001b[0m\u001b[1;33m.\u001b[0m\u001b[0m_handle\u001b[0m\u001b[1;33m,\u001b[0m \u001b[0margs\u001b[0m\u001b[1;33m,\u001b[0m \u001b[0mstatus\u001b[0m\u001b[1;33m,\u001b[0m\u001b[1;33m\u001b[0m\u001b[1;33m\u001b[0m\u001b[0m\n\u001b[1;32m-> 1439\u001b[1;33m               run_metadata_ptr)\n\u001b[0m\u001b[0;32m   1440\u001b[0m         \u001b[1;32mif\u001b[0m \u001b[0mrun_metadata\u001b[0m\u001b[1;33m:\u001b[0m\u001b[1;33m\u001b[0m\u001b[1;33m\u001b[0m\u001b[0m\n\u001b[0;32m   1441\u001b[0m           \u001b[0mproto_data\u001b[0m \u001b[1;33m=\u001b[0m \u001b[0mtf_session\u001b[0m\u001b[1;33m.\u001b[0m\u001b[0mTF_GetBuffer\u001b[0m\u001b[1;33m(\u001b[0m\u001b[0mrun_metadata_ptr\u001b[0m\u001b[1;33m)\u001b[0m\u001b[1;33m\u001b[0m\u001b[1;33m\u001b[0m\u001b[0m\n",
      "\u001b[1;31mKeyboardInterrupt\u001b[0m: "
     ]
    }
   ],
   "source": [
    "g_loss_array = np.zeros(epochs)\n",
    "d_loss_array = np.zeros(epochs)\n",
    "d_accuracy_array = np.zeros(epochs)\n",
    "d_predict_true_num_array = np.zeros(epochs)\n",
    "\n",
    "for epoch in range(epochs):\n",
    "    \n",
    "    for j in range(training_ratio):\n",
    "        \n",
    "        # 以下、Discriminator学習\n",
    "        # Generatorによる偽データの生成\n",
    "        noise = np.random.normal(0, 1, (batch_size, z_dim))\n",
    "        gen_imgs = generator.predict(noise)\n",
    "\n",
    "        # バッチサイズの半数を教師データからピックアップ\n",
    "        idx = np.random.randint(0, X_train.shape[0], batch_size)\n",
    "        imgs = X_train[idx]\n",
    "\n",
    "        epsilon = np.random.uniform(size=(batch_size, 1, 1, 1))\n",
    "        errD_real, errD_fake = netD_train([imgs, noise, epsilon])\n",
    "        d_loss = errD_real - errD_fake\n",
    "        \n",
    "        # discriminatorを学習させる\n",
    "        d_predict = discriminator.predict_classes(np.concatenate([gen_imgs,imgs]), verbose=0)\n",
    "        d_predict = np.sum(d_predict)\n",
    "\n",
    "    # 以下、Generator学習\n",
    "    noise = np.random.normal(0, 1, (batch_size, z_dim))\n",
    "    g_loss = netG_train([noise])\n",
    "    \n",
    "    if epoch % 50 == 0:\n",
    "        gen_imgs = np.squeeze(gen_imgs)\n",
    "        save_img = gen_imgs[0] * 127.5 + 127.5\n",
    "        Image.fromarray(save_img.astype(np.uint8)).save('savefig_WGAN/{}.png'.format(str(epoch)))\n",
    "        print (\"%d [D loss: %f] [G loss: %f]\" % (epoch, d_loss, g_loss[0]))"
   ]
  },
  {
   "cell_type": "code",
   "execution_count": null,
   "metadata": {},
   "outputs": [],
   "source": []
  }
 ],
 "metadata": {
  "kernelspec": {
   "display_name": "Python 3",
   "language": "python",
   "name": "python3"
  },
  "language_info": {
   "codemirror_mode": {
    "name": "ipython",
    "version": 3
   },
   "file_extension": ".py",
   "mimetype": "text/x-python",
   "name": "python",
   "nbconvert_exporter": "python",
   "pygments_lexer": "ipython3",
   "version": "3.7.3"
  }
 },
 "nbformat": 4,
 "nbformat_minor": 2
}
