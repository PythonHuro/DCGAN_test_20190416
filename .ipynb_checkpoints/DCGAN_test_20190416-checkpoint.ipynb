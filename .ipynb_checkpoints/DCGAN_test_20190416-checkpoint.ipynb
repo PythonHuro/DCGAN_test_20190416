{
 "cells": [
  {
   "cell_type": "markdown",
   "metadata": {},
   "source": [
    "# 🌸DCGAN実装してみる\n",
    "- mnist画像使うやで"
   ]
  },
  {
   "cell_type": "code",
   "execution_count": 18,
   "metadata": {},
   "outputs": [],
   "source": [
    "import keras\n",
    "import numpy as np\n",
    "import matplotlib as plt\n",
    "from PIL import Image"
   ]
  },
  {
   "cell_type": "markdown",
   "metadata": {},
   "source": [
    "### 🐍mnistデータ読み込む🐍\n",
    "- 読み込んだ後に画像の画素値を-1～1に正規化した"
   ]
  },
  {
   "cell_type": "code",
   "execution_count": 2,
   "metadata": {},
   "outputs": [],
   "source": [
    "(X_train, _), (_, _) = keras.datasets.mnist.load_data()\n",
    "X_train = (X_train.astype(np.float32) - 127.5) / 127.5\n",
    "X_train = np.expand_dims(X_train, axis=3)\n",
    "\n",
    "batch_size = 128\n",
    "\n",
    "half_batch = int(batch_size / 2)"
   ]
  },
  {
   "cell_type": "markdown",
   "metadata": {},
   "source": [
    "### 🐍最適化関数はAdamに🐍\n",
    "- なんでAdamにしたか？[ここ](https://www.renom.jp/ja/notebooks/tutorial/basic_algorithm/adam/notebook.html)参照してください。\n",
    "- とても長いので集約すると、現時点では最も適切なパラメータ更新ができる最適化手法として認められているから。"
   ]
  },
  {
   "cell_type": "code",
   "execution_count": 3,
   "metadata": {},
   "outputs": [
    {
     "name": "stdout",
     "output_type": "stream",
     "text": [
      "WARNING:tensorflow:From C:\\Users\\Kanazashi\\AppData\\Local\\conda\\conda\\envs\\DCGAN_test_20190416\\lib\\site-packages\\tensorflow\\python\\framework\\op_def_library.py:263: colocate_with (from tensorflow.python.framework.ops) is deprecated and will be removed in a future version.\n",
      "Instructions for updating:\n",
      "Colocations handled automatically by placer.\n"
     ]
    }
   ],
   "source": [
    "z_dim = 100\n",
    "\n",
    "img_rows = 28\n",
    "img_cols = 28\n",
    "channels = 1\n",
    "img_shape = (img_rows, img_cols, channels)\n",
    "\n",
    "optimizer = keras.optimizers.Adam(0.0002, 0.5)"
   ]
  },
  {
   "cell_type": "markdown",
   "metadata": {},
   "source": [
    "### 🐍Generatorを設計🐍"
   ]
  },
  {
   "cell_type": "code",
   "execution_count": 6,
   "metadata": {},
   "outputs": [],
   "source": [
    "noise_shape = (z_dim,)\n",
    "generator = keras.models.Sequential()\n",
    "\n",
    "generator.add(keras.layers.Dense(1024, input_shape=noise_shape))\n",
    "generator.add(keras.layers.normalization.BatchNormalization())\n",
    "generator.add(keras.layers.Activation('relu'))\n",
    "generator.add(keras.layers.Dense(128*7*7))\n",
    "generator.add(keras.layers.normalization.BatchNormalization())\n",
    "generator.add(keras.layers.Activation('relu'))\n",
    "generator.add(keras.layers.Reshape((7,7,128), input_shape=(128*7*7, )))\n",
    "generator.add(keras.layers.UpSampling2D((2, 2)))\n",
    "generator.add(keras.layers.Conv2D(64, (5, 5), padding='same'))\n",
    "generator.add(keras.layers.normalization.BatchNormalization())\n",
    "generator.add(keras.layers.Activation('relu'))\n",
    "generator.add(keras.layers.UpSampling2D((2, 2)))\n",
    "generator.add(keras.layers.Conv2D(1, (5, 5), padding='same'))\n",
    "generator.add(keras.layers.Activation('tanh'))"
   ]
  },
  {
   "cell_type": "markdown",
   "metadata": {},
   "source": [
    "### 🐍Discriminatorを設計🐍"
   ]
  },
  {
   "cell_type": "code",
   "execution_count": 10,
   "metadata": {},
   "outputs": [
    {
     "name": "stdout",
     "output_type": "stream",
     "text": [
      "WARNING:tensorflow:From C:\\Users\\Kanazashi\\AppData\\Local\\conda\\conda\\envs\\DCGAN_test_20190416\\lib\\site-packages\\keras\\backend\\tensorflow_backend.py:3445: calling dropout (from tensorflow.python.ops.nn_ops) with keep_prob is deprecated and will be removed in a future version.\n",
      "Instructions for updating:\n",
      "Please use `rate` instead of `keep_prob`. Rate should be set to `rate = 1 - keep_prob`.\n"
     ]
    }
   ],
   "source": [
    "img_shape = (img_rows, img_cols, channels)\n",
    "discriminator = keras.models.Sequential()\n",
    "\n",
    "discriminator.add(keras.layers.Conv2D(64, (5, 5), strides=(2, 2), padding='same', input_shape=img_shape))\n",
    "discriminator.add(keras.layers.advanced_activations.LeakyReLU(0.2))\n",
    "discriminator.add(keras.layers.Conv2D(128, (5, 5), strides=(2, 2)))\n",
    "discriminator.add(keras.layers.advanced_activations.LeakyReLU(0.2))\n",
    "discriminator.add(keras.layers.Flatten())\n",
    "discriminator.add(keras.layers.Dense(256))\n",
    "discriminator.add(keras.layers.advanced_activations.LeakyReLU(0.2))\n",
    "discriminator.add(keras.layers.Dropout(0.5))\n",
    "discriminator.add(keras.layers.Dense(1))\n",
    "discriminator.add(keras.layers.Activation('sigmoid'))"
   ]
  },
  {
   "cell_type": "code",
   "execution_count": 11,
   "metadata": {},
   "outputs": [],
   "source": [
    "discriminator.compile(loss='binary_crossentropy', optimizer=optimizer, metrics=['accuracy'])"
   ]
  },
  {
   "cell_type": "markdown",
   "metadata": {},
   "source": [
    "### 🐍combinedを設計🐍\n",
    "- GeneratorとDiscriminatorをつなぎ合わせたものを作成しておく\n",
    "- Generatorを学習させるときは、Generator単体ではなく、このCombinedを使って学習を行う"
   ]
  },
  {
   "cell_type": "code",
   "execution_count": 12,
   "metadata": {},
   "outputs": [],
   "source": [
    "discriminator.trainable = False\n",
    "combined = keras.models.Sequential([generator, discriminator])\n",
    "combined.compile(loss='binary_crossentropy', optimizer=optimizer)"
   ]
  },
  {
   "cell_type": "markdown",
   "metadata": {},
   "source": [
    "### 🐍学習🐍\n",
    "- 規定回数ごとに画像を保存している\n",
    "- ちょっとあとでもう少しわかりやすくします\n",
    "- 最終的には、Discriminatorの正答率が50%になるくらいまで、Generatorに成長してもらいたい"
   ]
  },
  {
   "cell_type": "code",
   "execution_count": 21,
   "metadata": {},
   "outputs": [
    {
     "name": "stdout",
     "output_type": "stream",
     "text": [
      "0 [D loss: 0.620765, acc.: 53.12%] [G loss: 0.463413]\n",
      "50 [D loss: 0.752794, acc.: 42.19%] [G loss: 0.412821]\n",
      "100 [D loss: 0.786063, acc.: 42.19%] [G loss: 0.405514]\n",
      "150 [D loss: 0.782032, acc.: 43.75%] [G loss: 0.307820]\n",
      "200 [D loss: 0.625540, acc.: 64.06%] [G loss: 0.165530]\n",
      "250 [D loss: 0.580374, acc.: 72.66%] [G loss: 0.617030]\n",
      "300 [D loss: 0.476969, acc.: 77.34%] [G loss: 0.241005]\n",
      "350 [D loss: 0.548990, acc.: 67.97%] [G loss: 0.353339]\n",
      "400 [D loss: 0.509594, acc.: 68.75%] [G loss: 0.607798]\n",
      "450 [D loss: 0.426418, acc.: 82.03%] [G loss: 0.326076]\n",
      "500 [D loss: 0.576083, acc.: 65.62%] [G loss: 0.620185]\n",
      "550 [D loss: 0.332230, acc.: 88.28%] [G loss: 0.771048]\n",
      "600 [D loss: 0.333361, acc.: 84.38%] [G loss: 0.222545]\n",
      "650 [D loss: 0.202538, acc.: 92.19%] [G loss: 0.258331]\n",
      "700 [D loss: 0.195302, acc.: 92.97%] [G loss: 0.164698]\n",
      "750 [D loss: 0.538092, acc.: 70.31%] [G loss: 0.568673]\n",
      "800 [D loss: 0.437875, acc.: 78.91%] [G loss: 0.990063]\n",
      "850 [D loss: 0.526996, acc.: 70.31%] [G loss: 0.868823]\n",
      "900 [D loss: 0.482399, acc.: 77.34%] [G loss: 0.736126]\n",
      "950 [D loss: 0.479399, acc.: 75.78%] [G loss: 0.808997]\n",
      "1000 [D loss: 0.355982, acc.: 84.38%] [G loss: 0.725306]\n",
      "1050 [D loss: 0.329396, acc.: 83.59%] [G loss: 0.731102]\n",
      "1100 [D loss: 0.408180, acc.: 80.47%] [G loss: 1.006764]\n",
      "1150 [D loss: 0.453635, acc.: 80.47%] [G loss: 1.176686]\n",
      "1200 [D loss: 0.509326, acc.: 71.88%] [G loss: 1.287497]\n",
      "1250 [D loss: 0.534556, acc.: 71.88%] [G loss: 1.163968]\n",
      "1300 [D loss: 0.497858, acc.: 78.91%] [G loss: 1.079717]\n",
      "1350 [D loss: 0.543654, acc.: 71.09%] [G loss: 1.128425]\n",
      "1400 [D loss: 0.626981, acc.: 64.06%] [G loss: 1.099184]\n",
      "1450 [D loss: 0.665318, acc.: 57.81%] [G loss: 0.936428]\n",
      "1500 [D loss: 0.678002, acc.: 59.38%] [G loss: 0.860999]\n",
      "1550 [D loss: 0.623316, acc.: 63.28%] [G loss: 0.972179]\n",
      "1600 [D loss: 0.629697, acc.: 62.50%] [G loss: 0.909458]\n",
      "1650 [D loss: 0.614945, acc.: 62.50%] [G loss: 0.954399]\n",
      "1700 [D loss: 0.636333, acc.: 65.62%] [G loss: 0.861927]\n",
      "1750 [D loss: 0.666509, acc.: 61.72%] [G loss: 0.895355]\n",
      "1800 [D loss: 0.619129, acc.: 61.72%] [G loss: 0.875217]\n",
      "1850 [D loss: 0.638377, acc.: 60.16%] [G loss: 0.828450]\n",
      "1900 [D loss: 0.621472, acc.: 68.75%] [G loss: 0.823134]\n",
      "1950 [D loss: 0.647752, acc.: 57.81%] [G loss: 0.880750]\n"
     ]
    }
   ],
   "source": [
    "for epoch in range(2000):\n",
    "    \n",
    "    # 以下、Discriminator学習\n",
    "    # Generatorによる偽データの生成\n",
    "    noise = np.random.normal(0, 1, (half_batch, z_dim))\n",
    "    gen_imgs = generator.predict(noise)\n",
    "    \n",
    "    # バッチサイズの半数を教師データからピックアップ\n",
    "    idx = np.random.randint(0, X_train.shape[0], half_batch)\n",
    "    imgs = X_train[idx]\n",
    "    \n",
    "    # discriminator学習\n",
    "    d_loss_real = discriminator.train_on_batch(imgs, np.ones((half_batch, 1)))\n",
    "    d_loss_fake = discriminator.train_on_batch(gen_imgs, np.zeros((half_batch, 1)))\n",
    "    \n",
    "    # それぞれの損失関数を平均\n",
    "    d_loss_mean = np.add(d_loss_real, d_loss_fake) * 0.5\n",
    "    \n",
    "    # 以下、Generator学習\n",
    "    noise = np.random.normal(0, 1, (batch_size, z_dim))\n",
    "    g_loss = combined.train_on_batch(noise, np.ones((batch_size, 1)))\n",
    "    \n",
    "    if epoch % 50 == 0:\n",
    "        gen_imgs = np.squeeze(gen_imgs)\n",
    "        save_img = gen_imgs[0] * 127.5 + 127.5\n",
    "        Image.fromarray(save_img.astype(np.uint8)).save('savefig_DCGAN/{}.png'.format(str(epoch)))\n",
    "        print (\"%d [D loss: %f, acc.: %.2f%%] [G loss: %f]\" % (epoch, d_loss_mean[0], 100*d_loss_mean[1], g_loss))"
   ]
  },
  {
   "cell_type": "markdown",
   "metadata": {},
   "source": [
    "- ↑なんかまだまだ学習させたらよくなりそうな感じがするなぁ"
   ]
  },
  {
   "cell_type": "markdown",
   "metadata": {},
   "source": [
    "### 🐍モデルの保存を行う\n",
    "- generator, discriminator共に、モデルの構造自体を.jsonで保存し、重みは.h5ファイルで保存"
   ]
  },
  {
   "cell_type": "code",
   "execution_count": 23,
   "metadata": {},
   "outputs": [],
   "source": [
    "generator_json_string = generator.to_json()\n",
    "\n",
    "with open('saved_model_DCGAN/generator_model.json', 'w') as fw_g:\n",
    "    fw_g.write(generator_json_string)\n",
    "\n",
    "generator.save_weights('saved_model_DCGAN/generator_weights.h5')\n",
    "\n",
    "discriminator_json_string = discriminator.to_json()\n",
    "\n",
    "with open('saved_model_DCGAN/discriminator_model.json', 'w') as fw_d:\n",
    "    fw_d.write(discriminator_json_string)\n",
    "\n",
    "discriminator.save_weights('saved_model_DCGAN/discriminator_weights.h5')"
   ]
  },
  {
   "cell_type": "code",
   "execution_count": null,
   "metadata": {},
   "outputs": [],
   "source": []
  }
 ],
 "metadata": {
  "kernelspec": {
   "display_name": "Python 3",
   "language": "python",
   "name": "python3"
  },
  "language_info": {
   "codemirror_mode": {
    "name": "ipython",
    "version": 3
   },
   "file_extension": ".py",
   "mimetype": "text/x-python",
   "name": "python",
   "nbconvert_exporter": "python",
   "pygments_lexer": "ipython3",
   "version": "3.7.3"
  }
 },
 "nbformat": 4,
 "nbformat_minor": 2
}
